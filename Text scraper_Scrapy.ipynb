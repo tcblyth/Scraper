{
 "cells": [
  {
   "cell_type": "code",
   "execution_count": 9,
   "metadata": {
    "scrolled": false
   },
   "outputs": [
    {
     "name": "stdout",
     "output_type": "stream",
     "text": [
      "SHARE   |   Tuesday, 21 January 2020\t\t \t  |   By Mokgweetsi E.k. Masisi\n",
      "Masisi\n",
      "On Tuesday influential leaders from around the globe descend in the cold mountainous village of Davos, Switzerland to attend the World Economic Forum's Annual Meeting 2020, held under the theme: Stakeholders for a Cohesive and Sustainable World, with a focus on renewing the concept of stakeholder capitalism to overcome income inequality, societal division and the climate crisis. The Meeting starts today (21 - 24 Jan), and I will be taking part in some of the scheduled panel discussions such as “Champions for Nature: The road to 2030”, media events, and structured discussions on a range of issues, with specific focus on potential benefits for Botswana’s development agenda.\n",
      "I will also hold bilateral meetings including one with Executive Chairman & Founder of WEF, Professor Klaus Schwab.\n",
      "SEE ALSO:\n",
      "In my quest to turn around the economy, I have alluded to the importance of forging alliances with like-minded partners across the globe with a view to seeking a solution to problems faced by Botswana such as rising levels of unemployment, especially among the youth.\n",
      "During Botswana’s maiden attendance of WEF last year, I promised that the nation would bring in a larger delegation in 2020 to exploit countless opportunities that had the potential to improve the livelihoods of its people. To this end, the Botswana Innovation Hub (BIH), as well as the Botswana Investment and Trade Centre (BITC), are in attendance.\n",
      "SEE ALSO:\n",
      "The 2020 WEF will bring together 3000 participants from around the world and aims to give concrete meaning to stakeholders’ capitalism, assist governments and international institutions in tracking progress towards the Paris Agreement on climate change and the sustainable development goals.\n",
      "The 50th annual meeting will also facilitate discussions on technology and trade governance, climate and environmental challenges, the transformation of industries with a view to achieving more sustainable and inclusive business models as well as how to govern technologies.\n",
      "SEE ALSO:\n",
      "Other world leaders attending the forum include US President, Donald Trump, German Chancellor, Angela Merkel, H.R.H. The Prince of ?Wales, United Nations (UN) Secretary-General Antonio Guterres, Prime Minister of Italy Giuseppe Conte, Prime Minister of Spain Pedro Sanchez and some of my African counterparts.\n",
      "\n"
     ]
    }
   ],
   "source": [
    "from boilerpy3 import extractors\n",
    "\n",
    "extractor = extractors.ArticleExtractor()\n",
    "\n",
    "# From a URL\n",
    "content = extractor.get_content_from_url('http://www.thepatriot.co.bw/news/item/7868-masisi-tackles-unemployment.html')\n",
    "\n",
    "print(content)"
   ]
  },
  {
   "cell_type": "code",
   "execution_count": 8,
   "metadata": {},
   "outputs": [],
   "source": [
    "import scrapy\n",
    "\n",
    "TOTAL_INDEX_PAGES = 68\n",
    "PAGE_SIZE = 43\n",
    "#http://www.thepatriot.co.bw/news.html?start=688\n",
    "\n",
    "def index_pages():\n",
    "    page = 0\n",
    "    while page < TOTAL_INDEX_PAGES:\n",
    "        yield f\"http://www.thepatriot.co.bw/news.html?start={ page * PAGE_SIZE }\"\n",
    "        page += 1\n",
    "\n",
    "class NewsIndexSpider(scrapy.Spider):\n",
    "    name = 'news_index'\n",
    "    allowed_domains = ['www.thepatriot.co.bw']\n",
    "    start_urls = [\"http://www.thepatriot.co.bw/news.html\"]\n",
    "    \n",
    "    #start_urls = index_pages() \n",
    "    def parse(self, response):\n",
    "        print(f\"Processsing {response.url}\")\n",
    "        # here we should parse the response.body to retrieve all the URLs the news articles we want to retrieve"
   ]
  },
  {
   "cell_type": "code",
   "execution_count": null,
   "metadata": {},
   "outputs": [],
   "source": []
  }
 ],
 "metadata": {
  "kernelspec": {
   "display_name": "Python 3",
   "language": "python",
   "name": "python3"
  },
  "language_info": {
   "codemirror_mode": {
    "name": "ipython",
    "version": 3
   },
   "file_extension": ".py",
   "mimetype": "text/x-python",
   "name": "python",
   "nbconvert_exporter": "python",
   "pygments_lexer": "ipython3",
   "version": "3.7.3"
  }
 },
 "nbformat": 4,
 "nbformat_minor": 2
}
